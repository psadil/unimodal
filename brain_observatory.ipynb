{
 "cells": [
  {
   "cell_type": "markdown",
   "metadata": {},
   "source": [
    "## Experiment Containers\n",
    "The experiment container describes a set of experiments performed with the same targeted area, imaging depth, and Cre line.  The `BrainObservatoryCache` has a number of functions for figuring out what experiment containers are available at the moment."
   ]
  },
  {
   "cell_type": "code",
   "execution_count": 1,
   "metadata": {},
   "outputs": [],
   "source": [
    "from allensdk.core.brain_observatory_cache import BrainObservatoryCache\n",
    "import pprint\n",
    "\n",
    "# This class uses a 'manifest' to keep track of downloaded data and metadata.  \n",
    "# All downloaded files will be stored relative to the directory holding the manifest\n",
    "# file.  If 'manifest_file' is a relative path (as it is below), it will be \n",
    "# saved relative to your working directory.  It can also be an absolute path.\n",
    "boc = BrainObservatoryCache()\n",
    "\n",
    "# Download a list of all targeted areas\n",
    "targeted_structures = boc.get_all_targeted_structures()\n",
    "print(\"all targeted structures: \" + str(targeted_structures))"
   ]
  },
  {
   "cell_type": "code",
   "execution_count": 16,
   "metadata": {},
   "outputs": [
    {
     "output_type": "execute_result",
     "data": {
      "text/plain": [
       "       all_stim  area  cell_specimen_id  \\\n",
       "0         False  VISp         517397327   \n",
       "1         False  VISp         517397340   \n",
       "2         False  VISp         517397343   \n",
       "3         False  VISp         517397347   \n",
       "4         False  VISp         517397353   \n",
       "...         ...   ...               ...   \n",
       "63246     False  VISp         738949239   \n",
       "63247     False  VISp         738949290   \n",
       "63248     False  VISp         738949318   \n",
       "63249     False  VISp         738949355   \n",
       "63250     False  VISp         743827845   \n",
       "\n",
       "                                     donor_full_genotype    dsi_dg  \\\n",
       "0      Scnn1a-Tg3-Cre/wt;Camk2a-tTA/wt;Ai93(TITL-GCaM...       NaN   \n",
       "1      Scnn1a-Tg3-Cre/wt;Camk2a-tTA/wt;Ai93(TITL-GCaM...  1.461268   \n",
       "2      Scnn1a-Tg3-Cre/wt;Camk2a-tTA/wt;Ai93(TITL-GCaM...       NaN   \n",
       "3      Scnn1a-Tg3-Cre/wt;Camk2a-tTA/wt;Ai93(TITL-GCaM...       NaN   \n",
       "4      Scnn1a-Tg3-Cre/wt;Camk2a-tTA/wt;Ai93(TITL-GCaM...       NaN   \n",
       "...                                                  ...       ...   \n",
       "63246  Cux2-CreERT2/wt;Camk2a-tTA/wt;Ai93(TITL-GCaMP6...       NaN   \n",
       "63247  Cux2-CreERT2/wt;Camk2a-tTA/wt;Ai93(TITL-GCaMP6...       NaN   \n",
       "63248  Cux2-CreERT2/wt;Camk2a-tTA/wt;Ai93(TITL-GCaMP6...  0.562188   \n",
       "63249  Cux2-CreERT2/wt;Camk2a-tTA/wt;Ai93(TITL-GCaMP6...  0.049553   \n",
       "63250    Pvalb-IRES-Cre/wt;Ai162(TIT2L-GC6s-ICL-tTA2)/wt       NaN   \n",
       "\n",
       "       experiment_container_id  failed_experiment_container  g_dsi_dg  \\\n",
       "0                    511498742                        False       NaN   \n",
       "1                    511498742                        False  0.824858   \n",
       "2                    511498742                        False  0.812462   \n",
       "3                    511498742                        False  0.078742   \n",
       "4                    511498742                        False       NaN   \n",
       "...                        ...                          ...       ...   \n",
       "63246                712178509                        False       NaN   \n",
       "63247                712178509                        False       NaN   \n",
       "63248                712178509                        False  0.158478   \n",
       "63249                712178509                        False  0.148848   \n",
       "63250                667772494                        False       NaN   \n",
       "\n",
       "       g_osi_dg  g_osi_sg  ...  specimen_id   tfdi_dg  time_to_peak_ns  \\\n",
       "0           NaN       NaN  ...    502185555       NaN              NaN   \n",
       "1      0.901542       NaN  ...    502185555  0.333074              NaN   \n",
       "2      0.894923       NaN  ...    502185555  0.258131              NaN   \n",
       "3      0.109241       NaN  ...    502185555  0.231590              NaN   \n",
       "4           NaN       NaN  ...    502185555       NaN              NaN   \n",
       "...         ...       ...  ...          ...       ...              ...   \n",
       "63246       NaN  0.289035  ...    699502603       NaN          0.29844   \n",
       "63247       NaN       NaN  ...    699502603       NaN              NaN   \n",
       "63248  0.242484       NaN  ...    699502603  0.361589              NaN   \n",
       "63249  0.246146       NaN  ...    699502603  0.338809              NaN   \n",
       "63250       NaN  0.525834  ...    657880064       NaN              NaN   \n",
       "\n",
       "       time_to_peak_sg    tld1_id       tld1_name      tld2_id   tld2_name  \\\n",
       "0                  NaN  177837516  Scnn1a-Tg3-Cre  177837320.0  Camk2a-tTA   \n",
       "1                  NaN  177837516  Scnn1a-Tg3-Cre  177837320.0  Camk2a-tTA   \n",
       "2                  NaN  177837516  Scnn1a-Tg3-Cre  177837320.0  Camk2a-tTA   \n",
       "3                  NaN  177837516  Scnn1a-Tg3-Cre  177837320.0  Camk2a-tTA   \n",
       "4                  NaN  177837516  Scnn1a-Tg3-Cre  177837320.0  Camk2a-tTA   \n",
       "...                ...        ...             ...          ...         ...   \n",
       "63246              NaN  177839004    Cux2-CreERT2  177837320.0  Camk2a-tTA   \n",
       "63247              NaN  177839004    Cux2-CreERT2  177837320.0  Camk2a-tTA   \n",
       "63248              NaN  177839004    Cux2-CreERT2  177837320.0  Camk2a-tTA   \n",
       "63249              NaN  177839004    Cux2-CreERT2  177837320.0  Camk2a-tTA   \n",
       "63250              NaN  177837858  Pvalb-IRES-Cre          NaN        None   \n",
       "\n",
       "         tlr1_id                   tlr1_name  \n",
       "0      265943423          Ai93(TITL-GCaMP6f)  \n",
       "1      265943423          Ai93(TITL-GCaMP6f)  \n",
       "2      265943423          Ai93(TITL-GCaMP6f)  \n",
       "3      265943423          Ai93(TITL-GCaMP6f)  \n",
       "4      265943423          Ai93(TITL-GCaMP6f)  \n",
       "...          ...                         ...  \n",
       "63246  265943423          Ai93(TITL-GCaMP6f)  \n",
       "63247  265943423          Ai93(TITL-GCaMP6f)  \n",
       "63248  265943423          Ai93(TITL-GCaMP6f)  \n",
       "63249  265943423          Ai93(TITL-GCaMP6f)  \n",
       "63250  561404268  Ai162(TIT2L-GC6s-ICL-tTA2)  \n",
       "\n",
       "[63251 rows x 60 columns]"
      ],
      "text/html": "<div>\n<style scoped>\n    .dataframe tbody tr th:only-of-type {\n        vertical-align: middle;\n    }\n\n    .dataframe tbody tr th {\n        vertical-align: top;\n    }\n\n    .dataframe thead th {\n        text-align: right;\n    }\n</style>\n<table border=\"1\" class=\"dataframe\">\n  <thead>\n    <tr style=\"text-align: right;\">\n      <th></th>\n      <th>all_stim</th>\n      <th>area</th>\n      <th>cell_specimen_id</th>\n      <th>donor_full_genotype</th>\n      <th>dsi_dg</th>\n      <th>experiment_container_id</th>\n      <th>failed_experiment_container</th>\n      <th>g_dsi_dg</th>\n      <th>g_osi_dg</th>\n      <th>g_osi_sg</th>\n      <th>...</th>\n      <th>specimen_id</th>\n      <th>tfdi_dg</th>\n      <th>time_to_peak_ns</th>\n      <th>time_to_peak_sg</th>\n      <th>tld1_id</th>\n      <th>tld1_name</th>\n      <th>tld2_id</th>\n      <th>tld2_name</th>\n      <th>tlr1_id</th>\n      <th>tlr1_name</th>\n    </tr>\n  </thead>\n  <tbody>\n    <tr>\n      <th>0</th>\n      <td>False</td>\n      <td>VISp</td>\n      <td>517397327</td>\n      <td>Scnn1a-Tg3-Cre/wt;Camk2a-tTA/wt;Ai93(TITL-GCaM...</td>\n      <td>NaN</td>\n      <td>511498742</td>\n      <td>False</td>\n      <td>NaN</td>\n      <td>NaN</td>\n      <td>NaN</td>\n      <td>...</td>\n      <td>502185555</td>\n      <td>NaN</td>\n      <td>NaN</td>\n      <td>NaN</td>\n      <td>177837516</td>\n      <td>Scnn1a-Tg3-Cre</td>\n      <td>177837320.0</td>\n      <td>Camk2a-tTA</td>\n      <td>265943423</td>\n      <td>Ai93(TITL-GCaMP6f)</td>\n    </tr>\n    <tr>\n      <th>1</th>\n      <td>False</td>\n      <td>VISp</td>\n      <td>517397340</td>\n      <td>Scnn1a-Tg3-Cre/wt;Camk2a-tTA/wt;Ai93(TITL-GCaM...</td>\n      <td>1.461268</td>\n      <td>511498742</td>\n      <td>False</td>\n      <td>0.824858</td>\n      <td>0.901542</td>\n      <td>NaN</td>\n      <td>...</td>\n      <td>502185555</td>\n      <td>0.333074</td>\n      <td>NaN</td>\n      <td>NaN</td>\n      <td>177837516</td>\n      <td>Scnn1a-Tg3-Cre</td>\n      <td>177837320.0</td>\n      <td>Camk2a-tTA</td>\n      <td>265943423</td>\n      <td>Ai93(TITL-GCaMP6f)</td>\n    </tr>\n    <tr>\n      <th>2</th>\n      <td>False</td>\n      <td>VISp</td>\n      <td>517397343</td>\n      <td>Scnn1a-Tg3-Cre/wt;Camk2a-tTA/wt;Ai93(TITL-GCaM...</td>\n      <td>NaN</td>\n      <td>511498742</td>\n      <td>False</td>\n      <td>0.812462</td>\n      <td>0.894923</td>\n      <td>NaN</td>\n      <td>...</td>\n      <td>502185555</td>\n      <td>0.258131</td>\n      <td>NaN</td>\n      <td>NaN</td>\n      <td>177837516</td>\n      <td>Scnn1a-Tg3-Cre</td>\n      <td>177837320.0</td>\n      <td>Camk2a-tTA</td>\n      <td>265943423</td>\n      <td>Ai93(TITL-GCaMP6f)</td>\n    </tr>\n    <tr>\n      <th>3</th>\n      <td>False</td>\n      <td>VISp</td>\n      <td>517397347</td>\n      <td>Scnn1a-Tg3-Cre/wt;Camk2a-tTA/wt;Ai93(TITL-GCaM...</td>\n      <td>NaN</td>\n      <td>511498742</td>\n      <td>False</td>\n      <td>0.078742</td>\n      <td>0.109241</td>\n      <td>NaN</td>\n      <td>...</td>\n      <td>502185555</td>\n      <td>0.231590</td>\n      <td>NaN</td>\n      <td>NaN</td>\n      <td>177837516</td>\n      <td>Scnn1a-Tg3-Cre</td>\n      <td>177837320.0</td>\n      <td>Camk2a-tTA</td>\n      <td>265943423</td>\n      <td>Ai93(TITL-GCaMP6f)</td>\n    </tr>\n    <tr>\n      <th>4</th>\n      <td>False</td>\n      <td>VISp</td>\n      <td>517397353</td>\n      <td>Scnn1a-Tg3-Cre/wt;Camk2a-tTA/wt;Ai93(TITL-GCaM...</td>\n      <td>NaN</td>\n      <td>511498742</td>\n      <td>False</td>\n      <td>NaN</td>\n      <td>NaN</td>\n      <td>NaN</td>\n      <td>...</td>\n      <td>502185555</td>\n      <td>NaN</td>\n      <td>NaN</td>\n      <td>NaN</td>\n      <td>177837516</td>\n      <td>Scnn1a-Tg3-Cre</td>\n      <td>177837320.0</td>\n      <td>Camk2a-tTA</td>\n      <td>265943423</td>\n      <td>Ai93(TITL-GCaMP6f)</td>\n    </tr>\n    <tr>\n      <th>...</th>\n      <td>...</td>\n      <td>...</td>\n      <td>...</td>\n      <td>...</td>\n      <td>...</td>\n      <td>...</td>\n      <td>...</td>\n      <td>...</td>\n      <td>...</td>\n      <td>...</td>\n      <td>...</td>\n      <td>...</td>\n      <td>...</td>\n      <td>...</td>\n      <td>...</td>\n      <td>...</td>\n      <td>...</td>\n      <td>...</td>\n      <td>...</td>\n      <td>...</td>\n      <td>...</td>\n    </tr>\n    <tr>\n      <th>63246</th>\n      <td>False</td>\n      <td>VISp</td>\n      <td>738949239</td>\n      <td>Cux2-CreERT2/wt;Camk2a-tTA/wt;Ai93(TITL-GCaMP6...</td>\n      <td>NaN</td>\n      <td>712178509</td>\n      <td>False</td>\n      <td>NaN</td>\n      <td>NaN</td>\n      <td>0.289035</td>\n      <td>...</td>\n      <td>699502603</td>\n      <td>NaN</td>\n      <td>0.29844</td>\n      <td>NaN</td>\n      <td>177839004</td>\n      <td>Cux2-CreERT2</td>\n      <td>177837320.0</td>\n      <td>Camk2a-tTA</td>\n      <td>265943423</td>\n      <td>Ai93(TITL-GCaMP6f)</td>\n    </tr>\n    <tr>\n      <th>63247</th>\n      <td>False</td>\n      <td>VISp</td>\n      <td>738949290</td>\n      <td>Cux2-CreERT2/wt;Camk2a-tTA/wt;Ai93(TITL-GCaMP6...</td>\n      <td>NaN</td>\n      <td>712178509</td>\n      <td>False</td>\n      <td>NaN</td>\n      <td>NaN</td>\n      <td>NaN</td>\n      <td>...</td>\n      <td>699502603</td>\n      <td>NaN</td>\n      <td>NaN</td>\n      <td>NaN</td>\n      <td>177839004</td>\n      <td>Cux2-CreERT2</td>\n      <td>177837320.0</td>\n      <td>Camk2a-tTA</td>\n      <td>265943423</td>\n      <td>Ai93(TITL-GCaMP6f)</td>\n    </tr>\n    <tr>\n      <th>63248</th>\n      <td>False</td>\n      <td>VISp</td>\n      <td>738949318</td>\n      <td>Cux2-CreERT2/wt;Camk2a-tTA/wt;Ai93(TITL-GCaMP6...</td>\n      <td>0.562188</td>\n      <td>712178509</td>\n      <td>False</td>\n      <td>0.158478</td>\n      <td>0.242484</td>\n      <td>NaN</td>\n      <td>...</td>\n      <td>699502603</td>\n      <td>0.361589</td>\n      <td>NaN</td>\n      <td>NaN</td>\n      <td>177839004</td>\n      <td>Cux2-CreERT2</td>\n      <td>177837320.0</td>\n      <td>Camk2a-tTA</td>\n      <td>265943423</td>\n      <td>Ai93(TITL-GCaMP6f)</td>\n    </tr>\n    <tr>\n      <th>63249</th>\n      <td>False</td>\n      <td>VISp</td>\n      <td>738949355</td>\n      <td>Cux2-CreERT2/wt;Camk2a-tTA/wt;Ai93(TITL-GCaMP6...</td>\n      <td>0.049553</td>\n      <td>712178509</td>\n      <td>False</td>\n      <td>0.148848</td>\n      <td>0.246146</td>\n      <td>NaN</td>\n      <td>...</td>\n      <td>699502603</td>\n      <td>0.338809</td>\n      <td>NaN</td>\n      <td>NaN</td>\n      <td>177839004</td>\n      <td>Cux2-CreERT2</td>\n      <td>177837320.0</td>\n      <td>Camk2a-tTA</td>\n      <td>265943423</td>\n      <td>Ai93(TITL-GCaMP6f)</td>\n    </tr>\n    <tr>\n      <th>63250</th>\n      <td>False</td>\n      <td>VISp</td>\n      <td>743827845</td>\n      <td>Pvalb-IRES-Cre/wt;Ai162(TIT2L-GC6s-ICL-tTA2)/wt</td>\n      <td>NaN</td>\n      <td>667772494</td>\n      <td>False</td>\n      <td>NaN</td>\n      <td>NaN</td>\n      <td>0.525834</td>\n      <td>...</td>\n      <td>657880064</td>\n      <td>NaN</td>\n      <td>NaN</td>\n      <td>NaN</td>\n      <td>177837858</td>\n      <td>Pvalb-IRES-Cre</td>\n      <td>NaN</td>\n      <td>None</td>\n      <td>561404268</td>\n      <td>Ai162(TIT2L-GC6s-ICL-tTA2)</td>\n    </tr>\n  </tbody>\n</table>\n<p>63251 rows × 60 columns</p>\n</div>"
     },
     "metadata": {},
     "execution_count": 16
    }
   ],
   "source": [
    "import pandas as pd\n",
    "\n",
    "# Download cells for a set of experiments and convert to DataFrame\n",
    "cells = boc.get_cell_specimens()\n",
    "cells = pd.DataFrame.from_records(cells)\n",
    "cells"
   ]
  },
  {
   "cell_type": "code",
   "execution_count": 20,
   "metadata": {},
   "outputs": [
    {
     "output_type": "execute_result",
     "data": {
      "text/plain": [
       "     all_stim  area  cell_specimen_id  \\\n",
       "17      False  VISp         517397412   \n",
       "33      False  VISp         517397554   \n",
       "87       True  VISp         517397855   \n",
       "92      False  VISp         517397875   \n",
       "129     False  VISp         517398175   \n",
       "\n",
       "                                   donor_full_genotype    dsi_dg  \\\n",
       "17   Scnn1a-Tg3-Cre/wt;Camk2a-tTA/wt;Ai93(TITL-GCaM...  0.767999   \n",
       "33   Scnn1a-Tg3-Cre/wt;Camk2a-tTA/wt;Ai93(TITL-GCaM...       NaN   \n",
       "87   Scnn1a-Tg3-Cre/wt;Camk2a-tTA/wt;Ai93(TITL-GCaM...  1.336825   \n",
       "92   Scnn1a-Tg3-Cre/wt;Camk2a-tTA/wt;Ai93(TITL-GCaM...       NaN   \n",
       "129  Scnn1a-Tg3-Cre/wt;Camk2a-tTA/wt;Ai93(TITL-GCaM...  0.293260   \n",
       "\n",
       "     experiment_container_id  failed_experiment_container  g_dsi_dg  g_osi_dg  \\\n",
       "17                 511498742                        False  0.257843  0.478698   \n",
       "33                 511498742                        False  0.181943  0.631007   \n",
       "87                 511498742                        False  0.493988  0.233212   \n",
       "92                 511498742                        False       NaN       NaN   \n",
       "129                511498742                        False  0.046774  0.682931   \n",
       "\n",
       "     g_osi_sg  ...  specimen_id   tfdi_dg  time_to_peak_ns  time_to_peak_sg  \\\n",
       "17        1.0  ...    502185555  0.396616          0.26600          0.29925   \n",
       "33        1.0  ...    502185555  0.209348          0.29925          0.33250   \n",
       "87        1.0  ...    502185555  0.266911          0.29925          0.26600   \n",
       "92        1.0  ...    502185555       NaN          0.33250              NaN   \n",
       "129       1.0  ...    502185555  0.310569          0.33250          0.29925   \n",
       "\n",
       "       tld1_id       tld1_name      tld2_id   tld2_name    tlr1_id  \\\n",
       "17   177837516  Scnn1a-Tg3-Cre  177837320.0  Camk2a-tTA  265943423   \n",
       "33   177837516  Scnn1a-Tg3-Cre  177837320.0  Camk2a-tTA  265943423   \n",
       "87   177837516  Scnn1a-Tg3-Cre  177837320.0  Camk2a-tTA  265943423   \n",
       "92   177837516  Scnn1a-Tg3-Cre  177837320.0  Camk2a-tTA  265943423   \n",
       "129  177837516  Scnn1a-Tg3-Cre  177837320.0  Camk2a-tTA  265943423   \n",
       "\n",
       "              tlr1_name  \n",
       "17   Ai93(TITL-GCaMP6f)  \n",
       "33   Ai93(TITL-GCaMP6f)  \n",
       "87   Ai93(TITL-GCaMP6f)  \n",
       "92   Ai93(TITL-GCaMP6f)  \n",
       "129  Ai93(TITL-GCaMP6f)  \n",
       "\n",
       "[5 rows x 60 columns]"
      ],
      "text/html": "<div>\n<style scoped>\n    .dataframe tbody tr th:only-of-type {\n        vertical-align: middle;\n    }\n\n    .dataframe tbody tr th {\n        vertical-align: top;\n    }\n\n    .dataframe thead th {\n        text-align: right;\n    }\n</style>\n<table border=\"1\" class=\"dataframe\">\n  <thead>\n    <tr style=\"text-align: right;\">\n      <th></th>\n      <th>all_stim</th>\n      <th>area</th>\n      <th>cell_specimen_id</th>\n      <th>donor_full_genotype</th>\n      <th>dsi_dg</th>\n      <th>experiment_container_id</th>\n      <th>failed_experiment_container</th>\n      <th>g_dsi_dg</th>\n      <th>g_osi_dg</th>\n      <th>g_osi_sg</th>\n      <th>...</th>\n      <th>specimen_id</th>\n      <th>tfdi_dg</th>\n      <th>time_to_peak_ns</th>\n      <th>time_to_peak_sg</th>\n      <th>tld1_id</th>\n      <th>tld1_name</th>\n      <th>tld2_id</th>\n      <th>tld2_name</th>\n      <th>tlr1_id</th>\n      <th>tlr1_name</th>\n    </tr>\n  </thead>\n  <tbody>\n    <tr>\n      <th>17</th>\n      <td>False</td>\n      <td>VISp</td>\n      <td>517397412</td>\n      <td>Scnn1a-Tg3-Cre/wt;Camk2a-tTA/wt;Ai93(TITL-GCaM...</td>\n      <td>0.767999</td>\n      <td>511498742</td>\n      <td>False</td>\n      <td>0.257843</td>\n      <td>0.478698</td>\n      <td>1.0</td>\n      <td>...</td>\n      <td>502185555</td>\n      <td>0.396616</td>\n      <td>0.26600</td>\n      <td>0.29925</td>\n      <td>177837516</td>\n      <td>Scnn1a-Tg3-Cre</td>\n      <td>177837320.0</td>\n      <td>Camk2a-tTA</td>\n      <td>265943423</td>\n      <td>Ai93(TITL-GCaMP6f)</td>\n    </tr>\n    <tr>\n      <th>33</th>\n      <td>False</td>\n      <td>VISp</td>\n      <td>517397554</td>\n      <td>Scnn1a-Tg3-Cre/wt;Camk2a-tTA/wt;Ai93(TITL-GCaM...</td>\n      <td>NaN</td>\n      <td>511498742</td>\n      <td>False</td>\n      <td>0.181943</td>\n      <td>0.631007</td>\n      <td>1.0</td>\n      <td>...</td>\n      <td>502185555</td>\n      <td>0.209348</td>\n      <td>0.29925</td>\n      <td>0.33250</td>\n      <td>177837516</td>\n      <td>Scnn1a-Tg3-Cre</td>\n      <td>177837320.0</td>\n      <td>Camk2a-tTA</td>\n      <td>265943423</td>\n      <td>Ai93(TITL-GCaMP6f)</td>\n    </tr>\n    <tr>\n      <th>87</th>\n      <td>True</td>\n      <td>VISp</td>\n      <td>517397855</td>\n      <td>Scnn1a-Tg3-Cre/wt;Camk2a-tTA/wt;Ai93(TITL-GCaM...</td>\n      <td>1.336825</td>\n      <td>511498742</td>\n      <td>False</td>\n      <td>0.493988</td>\n      <td>0.233212</td>\n      <td>1.0</td>\n      <td>...</td>\n      <td>502185555</td>\n      <td>0.266911</td>\n      <td>0.29925</td>\n      <td>0.26600</td>\n      <td>177837516</td>\n      <td>Scnn1a-Tg3-Cre</td>\n      <td>177837320.0</td>\n      <td>Camk2a-tTA</td>\n      <td>265943423</td>\n      <td>Ai93(TITL-GCaMP6f)</td>\n    </tr>\n    <tr>\n      <th>92</th>\n      <td>False</td>\n      <td>VISp</td>\n      <td>517397875</td>\n      <td>Scnn1a-Tg3-Cre/wt;Camk2a-tTA/wt;Ai93(TITL-GCaM...</td>\n      <td>NaN</td>\n      <td>511498742</td>\n      <td>False</td>\n      <td>NaN</td>\n      <td>NaN</td>\n      <td>1.0</td>\n      <td>...</td>\n      <td>502185555</td>\n      <td>NaN</td>\n      <td>0.33250</td>\n      <td>NaN</td>\n      <td>177837516</td>\n      <td>Scnn1a-Tg3-Cre</td>\n      <td>177837320.0</td>\n      <td>Camk2a-tTA</td>\n      <td>265943423</td>\n      <td>Ai93(TITL-GCaMP6f)</td>\n    </tr>\n    <tr>\n      <th>129</th>\n      <td>False</td>\n      <td>VISp</td>\n      <td>517398175</td>\n      <td>Scnn1a-Tg3-Cre/wt;Camk2a-tTA/wt;Ai93(TITL-GCaM...</td>\n      <td>0.293260</td>\n      <td>511498742</td>\n      <td>False</td>\n      <td>0.046774</td>\n      <td>0.682931</td>\n      <td>1.0</td>\n      <td>...</td>\n      <td>502185555</td>\n      <td>0.310569</td>\n      <td>0.33250</td>\n      <td>0.29925</td>\n      <td>177837516</td>\n      <td>Scnn1a-Tg3-Cre</td>\n      <td>177837320.0</td>\n      <td>Camk2a-tTA</td>\n      <td>265943423</td>\n      <td>Ai93(TITL-GCaMP6f)</td>\n    </tr>\n  </tbody>\n</table>\n<p>5 rows × 60 columns</p>\n</div>"
     },
     "metadata": {},
     "execution_count": 20
    }
   ],
   "source": [
    "# orientation selective cells in VISp\n",
    "osi_cells = cells.query('area == \"VISp\" & g_osi_sg >= 1 & p_sg < 0.05')\n",
    "osi_cells.head()"
   ]
  },
  {
   "cell_type": "markdown",
   "metadata": {},
   "source": [
    "## Find Experiments for Cells\n",
    "Once you have found a set of cells you would like to investigate, you can use the `BrainObservatoryCache` to find the experiments for those cells that contain the relevant stimulus."
   ]
  },
  {
   "cell_type": "code",
   "execution_count": 32,
   "metadata": {},
   "outputs": [
    {
     "output_type": "execute_result",
     "data": {
      "text/plain": [
       "{'id': 648389302,\n",
       " 'imaging_depth': 275,\n",
       " 'targeted_structure': 'VISp',\n",
       " 'cre_line': 'Slc17a7-IRES2-Cre',\n",
       " 'reporter_line': 'Ai93(TITL-GCaMP6f)',\n",
       " 'acquisition_age_days': 108,\n",
       " 'experiment_container_id': 647155120,\n",
       " 'session_type': 'three_session_B',\n",
       " 'donor_name': '347751',\n",
       " 'specimen_name': 'Slc17a7-IRES2-Cre;Camk2a-tTA;Ai93-347751',\n",
       " 'fail_eye_tracking': False}"
      ]
     },
     "metadata": {},
     "execution_count": 32
    }
   ],
   "source": [
    "import allensdk.brain_observatory.stimulus_info as stim_info\n",
    "\n",
    "# find experiment containers for those cells\n",
    "osi_ec_ids = osi_cells['experiment_container_id'].unique()\n",
    "\n",
    "# Download the ophys experiments containing the static gratings stimulus for VISp experiment containers\n",
    "osi_exps = boc.get_ophys_experiments(experiment_container_ids=osi_ec_ids, stimuli=[stim_info.STATIC_GRATINGS])\n",
    "osi_exps[0]"
   ]
  },
  {
   "cell_type": "markdown",
   "metadata": {},
   "source": [
    "## Download Experiment Data for a Cell\n",
    "Once you have some experiments, you can download the NWB files that contain the fluorescence traces for segmented cells in those experiments."
   ]
  },
  {
   "cell_type": "code",
   "execution_count": 33,
   "metadata": {},
   "outputs": [
    {
     "output_type": "execute_result",
     "data": {
      "text/plain": [
       "190"
      ]
     },
     "metadata": {},
     "execution_count": 33
    }
   ],
   "source": [
    "exp_id = osi_exps[0]['id']\n",
    "data_set = boc.get_ophys_experiment_data(exp_id)\n",
    "data_set.number_of_cells"
   ]
  },
  {
   "cell_type": "code",
   "execution_count": 42,
   "metadata": {},
   "outputs": [],
   "source": [
    "from allensdk.brain_observatory.static_gratings import StaticGratings\n",
    "sg = StaticGratings(data_set)\n",
    "mean_sweeps = sg.mean_sweep_response.values"
   ]
  },
  {
   "cell_type": "code",
   "execution_count": 69,
   "metadata": {},
   "outputs": [
    {
     "output_type": "stream",
     "name": "stdout",
     "text": [
      "celltraces: (190, 117504)\nsweep_response: (6000, 191)\nmean_sweep_response: (6000, 191)\n190\n"
     ]
    }
   ],
   "source": [
    "print(f\"celltraces: {sg.celltraces.shape}\")\n",
    "print(f\"sweep_response: {sg.sweep_response.shape}\")\n",
    "print(f\"mean_sweep_response: {sg.mean_sweep_response.shape}\")\n",
    "print(len([x for x in range(sg.numbercells)]))"
   ]
  },
  {
   "cell_type": "code",
   "execution_count": 93,
   "metadata": {},
   "outputs": [],
   "source": [
    "import xarray as xr\n",
    "\n",
    "d = xr.DataArray(\n",
    "    mean_sweeps, \n",
    "    dims=(\"stim\", \"cell\"),\n",
    "    coords = {'cell' : [str(x) for x in sg.cell_id] + ['dx']})\n",
    "d.to_dataframe(name='value').reset_index().to_feather('cells.feather')"
   ]
  },
  {
   "cell_type": "code",
   "execution_count": null,
   "metadata": {},
   "outputs": [],
   "source": [
    "sg.stim_table.to_feather('stim_table.feather')"
   ]
  },
  {
   "cell_type": "code",
   "execution_count": 95,
   "metadata": {},
   "outputs": [],
   "source": [
    "sg.peak.to_feather('peak.feather')"
   ]
  }
 ],
 "metadata": {
  "kernelspec": {
   "display_name": "Python 3.7.9 64-bit",
   "language": "python",
   "name": "python37964bitdd24fd9c9763433e8f4dff83b5812154"
  },
  "language_info": {
   "codemirror_mode": {
    "name": "ipython",
    "version": 2
   },
   "file_extension": ".py",
   "mimetype": "text/x-python",
   "name": "python",
   "nbconvert_exporter": "python",
   "pygments_lexer": "ipython2",
   "version": "3.7.9-final"
  }
 },
 "nbformat": 4,
 "nbformat_minor": 1
}